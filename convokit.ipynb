{
 "cells": [
  {
   "cell_type": "code",
   "execution_count": 235,
   "metadata": {},
   "outputs": [],
   "source": [
    "from tqdm import tqdm\n",
    "from convokit import Corpus, Speaker, Utterance\n",
    "from collections import defaultdict"
   ]
  },
  {
   "cell_type": "code",
   "execution_count": 236,
   "metadata": {},
   "outputs": [],
   "source": [
    "# replace the directory with where your downloaded cornell movie dialogs corpus is saved\n",
    "data_dir = \"C:\\\\Users\\\\Vinay\\\\OneDrive\\\\Documents\\\\GitHub\\\\Coordination\\\\ijcnlp_dailydialog\\\\\""
   ]
  },
  {
   "cell_type": "code",
   "execution_count": 237,
   "metadata": {},
   "outputs": [],
   "source": [
    "with open(data_dir + \"dialogues_text.txt\", \"r\", encoding='utf-8', errors='ignore') as f:\n",
    "    dialog_data = f.readlines()"
   ]
  },
  {
   "cell_type": "code",
   "execution_count": 238,
   "metadata": {},
   "outputs": [
    {
     "name": "stderr",
     "output_type": "stream",
     "text": [
      "100%|██████████| 13118/13118 [00:00<00:00, 273268.04it/s]\n"
     ]
    }
   ],
   "source": [
    "utterance_data=[]\n",
    "count=0\n",
    "for utterance in tqdm(dialog_data):\n",
    "    \n",
    "    utterance_data.append( [info.strip( ) for info in utterance.split(\" __eou__\")])"
   ]
  },
  {
   "cell_type": "code",
   "execution_count": 239,
   "metadata": {},
   "outputs": [],
   "source": [
    "\n",
    "for i in range(len(utterance_data)):\n",
    "    utterance_data[i].pop()"
   ]
  },
  {
   "cell_type": "code",
   "execution_count": 240,
   "metadata": {},
   "outputs": [],
   "source": [
    "#adding utterance index for a dialog\n",
    "x=0\n",
    "for i in range(len(utterance_data)):\n",
    "    for j in range(len(utterance_data[i])):\n",
    "        utterance_data[i][j]+=\" __alp__ \"+(str(j+x))\n",
    "    x+=len(utterance_data[i])\n",
    "        "
   ]
  },
  {
   "cell_type": "code",
   "execution_count": 241,
   "metadata": {},
   "outputs": [],
   "source": [
    "with open(data_dir + \"dialogues_act.txt\", \"r\", encoding='utf-8', errors='ignore') as f:\n",
    "    dialog_act = f.readlines()"
   ]
  },
  {
   "cell_type": "code",
   "execution_count": 242,
   "metadata": {},
   "outputs": [
    {
     "name": "stderr",
     "output_type": "stream",
     "text": [
      "100%|██████████| 13118/13118 [00:00<00:00, 569822.07it/s]\n"
     ]
    }
   ],
   "source": [
    "utterance_act=[]\n",
    "for utterance in tqdm(dialog_act):\n",
    "    \n",
    "    utterance_act.append([info.strip() for info in utterance.split(\" \")])"
   ]
  },
  {
   "cell_type": "code",
   "execution_count": 243,
   "metadata": {},
   "outputs": [],
   "source": [
    "for i in range(len(utterance_data)):\n",
    "    for j in range(len(utterance_data[i])):\n",
    "        utterance_data[i][j]+=\" __alp__ \"+utterance_act[i][j]"
   ]
  },
  {
   "cell_type": "code",
   "execution_count": 244,
   "metadata": {},
   "outputs": [],
   "source": [
    "with open(data_dir + \"dialogues_emotion.txt\", \"r\", encoding='utf-8', errors='ignore') as f:\n",
    "    dialog_emotion = f.readlines()"
   ]
  },
  {
   "cell_type": "code",
   "execution_count": 245,
   "metadata": {},
   "outputs": [
    {
     "name": "stderr",
     "output_type": "stream",
     "text": [
      "100%|██████████| 13118/13118 [00:00<00:00, 624563.03it/s]\n"
     ]
    }
   ],
   "source": [
    "utterance_emotion=[]\n",
    "for utterance in tqdm(dialog_emotion):\n",
    "    \n",
    "    utterance_emotion .append( [info.strip() for info in utterance.split(\" \")])"
   ]
  },
  {
   "cell_type": "code",
   "execution_count": 246,
   "metadata": {},
   "outputs": [],
   "source": [
    "#emotion index\n",
    "for i in range(len(utterance_data)):\n",
    "    for j in range(len(utterance_data[i])):\n",
    "        utterance_data[i][j]+=\" __alp__ \"+utterance_emotion[i][j]"
   ]
  },
  {
   "cell_type": "code",
   "execution_count": 247,
   "metadata": {},
   "outputs": [
    {
     "data": {
      "text/plain": [
       "['So Dick , how about getting some coffee for tonight ? __alp__ 2 __alp__ 3 __alp__ 4',\n",
       " 'Coffee ? I don ’ t honestly like that kind of stuff . __alp__ 3 __alp__ 4 __alp__ 2',\n",
       " 'Come on , you can at least try a little , besides your cigarette . __alp__ 4 __alp__ 3 __alp__ 0',\n",
       " 'What ’ s wrong with that ? Cigarette is the thing I go crazy for . __alp__ 5 __alp__ 1 __alp__ 1',\n",
       " 'Not for me , Dick . __alp__ 6 __alp__ 1 __alp__ 0']"
      ]
     },
     "execution_count": 247,
     "metadata": {},
     "output_type": "execute_result"
    }
   ],
   "source": [
    "utterance_data[1]"
   ]
  },
  {
   "cell_type": "code",
   "execution_count": 248,
   "metadata": {},
   "outputs": [
    {
     "data": {
      "text/plain": [
       "['So Dick , how about getting some coffee for tonight ? __alp__ 2 __alp__ 3 __alp__ 4 __alp__ 2',\n",
       " 'Coffee ? I don ’ t honestly like that kind of stuff . __alp__ 3 __alp__ 4 __alp__ 2 __alp__ 3',\n",
       " 'Come on , you can at least try a little , besides your cigarette . __alp__ 4 __alp__ 3 __alp__ 0 __alp__ 2',\n",
       " 'What ’ s wrong with that ? Cigarette is the thing I go crazy for . __alp__ 5 __alp__ 1 __alp__ 1 __alp__ 3',\n",
       " 'Not for me , Dick . __alp__ 6 __alp__ 1 __alp__ 0 __alp__ 2']"
      ]
     },
     "execution_count": 248,
     "metadata": {},
     "output_type": "execute_result"
    }
   ],
   "source": [
    "#adding speakers\n",
    "#we will assume speaker 0 and 1 speaking alternatively\n",
    "for i in range(len(utterance_data)):\n",
    "    for j in range(len(utterance_data[i])):\n",
    "        utterance_data[i][j]+=\" __alp__ \"+str(2*i+j%2)\n",
    "utterance_data[1]\n"
   ]
  },
  {
   "cell_type": "code",
   "execution_count": 249,
   "metadata": {},
   "outputs": [],
   "source": [
    "#conversation id\n",
    "for i in range(len(utterance_data)):\n",
    "    for j in range(len(utterance_data[i])):\n",
    "        utterance_data[i][j]+=\" __alp__ \"+str(i)"
   ]
  },
  {
   "cell_type": "code",
   "execution_count": 250,
   "metadata": {},
   "outputs": [
    {
     "data": {
      "text/plain": [
       "['So Dick , how about getting some coffee for tonight ? __alp__ 2 __alp__ 3 __alp__ 4 __alp__ 2 __alp__ 1',\n",
       " 'Coffee ? I don ’ t honestly like that kind of stuff . __alp__ 3 __alp__ 4 __alp__ 2 __alp__ 3 __alp__ 1',\n",
       " 'Come on , you can at least try a little , besides your cigarette . __alp__ 4 __alp__ 3 __alp__ 0 __alp__ 2 __alp__ 1',\n",
       " 'What ’ s wrong with that ? Cigarette is the thing I go crazy for . __alp__ 5 __alp__ 1 __alp__ 1 __alp__ 3 __alp__ 1',\n",
       " 'Not for me , Dick . __alp__ 6 __alp__ 1 __alp__ 0 __alp__ 2 __alp__ 1']"
      ]
     },
     "execution_count": 250,
     "metadata": {},
     "output_type": "execute_result"
    }
   ],
   "source": [
    "utterance_data[1]"
   ]
  },
  {
   "cell_type": "code",
   "execution_count": 251,
   "metadata": {},
   "outputs": [
    {
     "data": {
      "text/plain": [
       "\"Ok , I'll get this rate right away . __alp__ 102978 __alp__ 4 __alp__ 0 __alp__ 26235 __alp__ 13117\""
      ]
     },
     "execution_count": 251,
     "metadata": {},
     "output_type": "execute_result"
    }
   ],
   "source": [
    "utterance_data_new=[]\n",
    "for xs in utterance_data:\n",
    "    for x in xs:\n",
    "        utterance_data_new.append(x)\n",
    "utterance_data_new[-2]"
   ]
  },
  {
   "cell_type": "code",
   "execution_count": 252,
   "metadata": {},
   "outputs": [],
   "source": [
    "speaker_meta={}\n",
    "for i in range(26236):\n",
    "    speaker_meta[str(i)]={\"speaker_id\": i}"
   ]
  },
  {
   "cell_type": "code",
   "execution_count": 253,
   "metadata": {},
   "outputs": [],
   "source": [
    "corpus_speakers = {k: Speaker(id = k, meta = v) for k,v in speaker_meta.items()}"
   ]
  },
  {
   "cell_type": "code",
   "execution_count": 254,
   "metadata": {},
   "outputs": [
    {
     "name": "stderr",
     "output_type": "stream",
     "text": [
      "100%|██████████| 102980/102980 [00:00<00:00, 197258.67it/s]"
     ]
    },
    {
     "name": "stdout",
     "output_type": "stream",
     "text": [
      "Total number of utterances = 102980\n"
     ]
    },
    {
     "name": "stderr",
     "output_type": "stream",
     "text": [
      "\n"
     ]
    }
   ],
   "source": [
    "utterance_corpus = {}\n",
    "count = 0\n",
    "for utterance in tqdm(utterance_data_new):\n",
    "    \n",
    "    utterance_info = [info.strip() for info in utterance.split(\" __alp__\")]\n",
    "    \n",
    "    if len(utterance_info) < 4:\n",
    "        print(utterance_info)\n",
    "        \n",
    "    try:\n",
    "        text, utt_idx, utt_act, utt_emo,speaker_id,conver_id = utterance_info[0], utterance_info[1], utterance_info[2], int(utterance_info[3]),utterance_info[4],utterance_info[5]\n",
    "    except:\n",
    "        print(utterance_info)\n",
    "    \n",
    "    meta = {'utt_emo': utt_emo, 'utt_idx': utt_idx,'utt_act': utt_act}\n",
    "    \n",
    "    # root & reply_to will be updated later, timestamp is not applicable \n",
    "    utterance_corpus[utt_idx] = Utterance(id=utt_idx, speaker= corpus_speakers[speaker_id], text=text, conversation_id=conver_id, meta= meta)\n",
    "\n",
    "print(\"Total number of utterances = {}\".format(len(utterance_corpus)))"
   ]
  },
  {
   "cell_type": "code",
   "execution_count": 255,
   "metadata": {},
   "outputs": [
    {
     "data": {
      "text/plain": [
       "Utterance({'obj_type': 'utterance', 'meta': {'utt_emo': 2, 'utt_idx': '0', 'utt_act': '3'}, 'vectors': [], 'speaker': Speaker({'obj_type': 'speaker', 'meta': {'speaker_id': 0}, 'vectors': [], 'owner': None, 'id': '0'}), 'conversation_id': '0', 'reply_to': None, 'timestamp': None, 'text': 'The kitchen stinks .', 'owner': None, 'id': '0'})"
      ]
     },
     "execution_count": 255,
     "metadata": {},
     "output_type": "execute_result"
    }
   ],
   "source": [
    "utterance_corpus['0']"
   ]
  },
  {
   "cell_type": "code",
   "execution_count": 256,
   "metadata": {},
   "outputs": [
    {
     "data": {
      "text/plain": [
       "102980"
      ]
     },
     "execution_count": 256,
     "metadata": {},
     "output_type": "execute_result"
    }
   ],
   "source": [
    "len(utterance_corpus)"
   ]
  },
  {
   "cell_type": "code",
   "execution_count": 257,
   "metadata": {},
   "outputs": [],
   "source": [
    "conv_id_definer=0\n",
    "for i in range(len(utterance_corpus)):\n",
    "    if i==0 or utterance_corpus[str(i)].conversation_id!=utterance_corpus[str(i-1)].conversation_id:\n",
    "        utterance_corpus[str(i)].reply_to=None\n",
    "    else:\n",
    "        utterance_corpus[str(i)].reply_to=str(i-1)\n"
   ]
  },
  {
   "cell_type": "code",
   "execution_count": 258,
   "metadata": {},
   "outputs": [
    {
     "name": "stdout",
     "output_type": "stream",
     "text": [
      "Utterance(id: '20', conversation_id: 5, reply-to: 19, speaker: Speaker(id: 10, vectors: [], meta: {'speaker_id': 10}), timestamp: None, text: 'What ’ s wrong ? Didn ’ t you think it was fun ? !', vectors: [], meta: {'utt_emo': 6, 'utt_idx': '20', 'utt_act': '2'})\n",
      "10\n",
      "{'speaker_id': 21}\n"
     ]
    }
   ],
   "source": [
    "print(utterance_corpus['20'])\n",
    "print(utterance_corpus['50'].conversation_id)\n",
    "print(utterance_corpus['50'].speaker.meta)\n"
   ]
  },
  {
   "cell_type": "code",
   "execution_count": 259,
   "metadata": {},
   "outputs": [],
   "source": [
    "utternace_list=utterance_corpus.values()"
   ]
  },
  {
   "cell_type": "code",
   "execution_count": 201,
   "metadata": {},
   "outputs": [],
   "source": [
    "coordination_corpus=Corpus(utterances=utternace_list)"
   ]
  },
  {
   "cell_type": "code",
   "execution_count": 202,
   "metadata": {},
   "outputs": [
    {
     "name": "stdout",
     "output_type": "stream",
     "text": [
      "number of conversations in the dataset = 13118\n"
     ]
    }
   ],
   "source": [
    "print(\"number of conversations in the dataset = {}\".format(len(coordination_corpus.get_conversation_ids())))"
   ]
  },
  {
   "cell_type": "code",
   "execution_count": 203,
   "metadata": {},
   "outputs": [
    {
     "name": "stdout",
     "output_type": "stream",
     "text": [
      "sample conversation 0:\n",
      "['0', '1']\n",
      "sample conversation 1:\n",
      "['2', '3', '4', '5', '6']\n",
      "sample conversation 2:\n",
      "['7', '8', '9', '10']\n",
      "sample conversation 3:\n",
      "['11', '12', '13', '14']\n"
     ]
    }
   ],
   "source": [
    "convo_ids = coordination_corpus.get_conversation_ids()\n",
    "for i, convo_idx in enumerate(convo_ids[0:4]):\n",
    "    print(\"sample conversation {}:\".format(i))\n",
    "    print(coordination_corpus.get_conversation(convo_idx).get_utterance_ids())"
   ]
  },
  {
   "cell_type": "code",
   "execution_count": 204,
   "metadata": {},
   "outputs": [],
   "source": [
    "coordination_corpus.dump(\"coordination-corpus\")"
   ]
  },
  {
   "cell_type": "code",
   "execution_count": 205,
   "metadata": {},
   "outputs": [],
   "source": [
    "from convokit import meta_index\n",
    "import os.path"
   ]
  },
  {
   "cell_type": "code",
   "execution_count": 206,
   "metadata": {},
   "outputs": [
    {
     "data": {
      "text/plain": [
       "{'utterances-index': {'utt_emo': [\"<class 'int'>\"],\n",
       "  'utt_idx': [\"<class 'str'>\"],\n",
       "  'utt_act': [\"<class 'str'>\"]},\n",
       " 'speakers-index': {'speaker_id': [\"<class 'int'>\"]},\n",
       " 'conversations-index': {},\n",
       " 'overall-index': {},\n",
       " 'version': 1,\n",
       " 'vectors': []}"
      ]
     },
     "execution_count": 206,
     "metadata": {},
     "output_type": "execute_result"
    }
   ],
   "source": [
    "meta_index(filename = os.path.join(os.path.expanduser(\"~\"), \".convokit/saved-corpora/coordination-corpus\"))"
   ]
  },
  {
   "cell_type": "code",
   "execution_count": 207,
   "metadata": {},
   "outputs": [],
   "source": [
    "import matplotlib.pyplot as plt\n",
    "import matplotlib.patches as mpatches\n",
    "import numpy as np\n",
    "import convokit\n",
    "%matplotlib inline"
   ]
  },
  {
   "cell_type": "code",
   "execution_count": 208,
   "metadata": {},
   "outputs": [],
   "source": [
    "corpus= Corpus(utterances=utternace_list)"
   ]
  },
  {
   "cell_type": "code",
   "execution_count": 209,
   "metadata": {},
   "outputs": [
    {
     "name": "stdout",
     "output_type": "stream",
     "text": [
      "<convokit.model.corpus.Corpus object at 0x000002BF379BA5E0>\n"
     ]
    }
   ],
   "source": [
    "print(corpus)"
   ]
  },
  {
   "cell_type": "code",
   "execution_count": 210,
   "metadata": {},
   "outputs": [],
   "source": [
    "coord= convokit.Coordination()\n",
    "coord.fit(corpus)\n",
    "coord.transform(corpus)\n",
    "\n",
    "speaker_a= lambda speaker: int(speaker.meta[\"speaker_id\"])%2==0\n",
    "speaker_b= lambda speaker: int(speaker.meta[\"speaker_id\"])%2==1\n",
    "\n"
   ]
  },
  {
   "cell_type": "code",
   "execution_count": 211,
   "metadata": {},
   "outputs": [],
   "source": [
    "dictionary_of_emotions={}\n",
    "list_of_emotion=[]\n",
    "for i in range(len(utterance_corpus)):\n",
    "    emotion_key=utterance_corpus[str(i)].speaker.meta['speaker_id']\n",
    "    emotion_dict=utterance_corpus[str(i)].meta['utt_emo']\n",
    "    if emotion_key in dictionary_of_emotions:\n",
    "        dictionary_of_emotions[emotion_key].append(emotion_dict)\n",
    "    else: \n",
    "        dictionary_of_emotions[emotion_key]=[emotion_dict]\n",
    "for i in range(26236):\n",
    "    list_of_emotion.append(dictionary_of_emotions[i])"
   ]
  },
  {
   "cell_type": "code",
   "execution_count": 212,
   "metadata": {},
   "outputs": [
    {
     "name": "stdout",
     "output_type": "stream",
     "text": [
      "Eventual emotion is same by what ratio if coordination of any one of the speakers is greater then 0.1 towards the other speaker:\n"
     ]
    },
    {
     "data": {
      "text/plain": [
       "33"
      ]
     },
     "execution_count": 212,
     "metadata": {},
     "output_type": "execute_result"
    }
   ],
   "source": [
    "#a to b\n",
    "#initial= not equal\n",
    "#final=equal\n",
    "print('Eventual emotion is same by what ratio if coordination of any one of the speakers is greater then 0.1 towards the other speaker:')\n",
    "t=set()\n",
    "q=set()\n",
    "initial_emotions=[0,0,0,0,0,0,0]\n",
    "final_emotion_same=[0,0,0,0,0,0,0]\n",
    "speakera_to_speakerb=coord.summarize(corpus, speaker_a, speaker_b)\n",
    "for speakera, score in sorted(speakera_to_speakerb.averages_by_speaker().items(),\n",
    "    key=lambda x: x[1], reverse=True):\n",
    "    if(round(score,5)==0.1):\n",
    "        break\n",
    "    if int(speakera.id)%2==0:\n",
    "        emotion_speaker1=list_of_emotion[int(speakera.id)]\n",
    "        emotion_speaker2=list_of_emotion[int(speakera.id)+1]\n",
    "    else:\n",
    "        emotion_speaker1=list_of_emotion[int(speakera.id)]\n",
    "        emotion_speaker2=list_of_emotion[int(speakera.id)-1]\n",
    "    if emotion_speaker1[0]!=emotion_speaker2[0]:\n",
    "        t.add(int(speakera.id))\n",
    "        initial_emotions[emotion_speaker1[0]]+=1\n",
    "    length1=len(emotion_speaker1)\n",
    "    length2=len(emotion_speaker2)\n",
    "    #if (emotion_speaker1[0]!=emotion_speaker2[0]) and (((emotion_speaker1[0]==0 and emotion_speaker1[length1-1]==0) or (emotion_speaker2[0]==0 and emotion_speaker2[length2-1]==0))):\n",
    "        #t.discard(int(speakera.id))\n",
    "    if length1>1:\n",
    "        if emotion_speaker1[0]!=emotion_speaker2[0] and emotion_speaker1[length1-1]==emotion_speaker2[length2-1]:\n",
    "            q.add(int(speakera.id))\n",
    "            final_emotion_same[emotion_speaker1[0]]+=1\n",
    "        #if (emotion_speaker1[0]!=emotion_speaker2[0]) and (((emotion_speaker1[0]==0 and emotion_speaker1[length1-1]==0) or (emotion_speaker2[0]==0 and emotion_speaker2[length2-1]==0))):\n",
    "            #q.discard(int(speakera.id))\n",
    "len(t)\n",
    "\n",
    "\n"
   ]
  },
  {
   "cell_type": "code",
   "execution_count": 213,
   "metadata": {},
   "outputs": [
    {
     "name": "stdout",
     "output_type": "stream",
     "text": [
      "Eventual emotion is same by what ratio if coordination of any one of the speakers is greater then 0.1 towards the other speaker:\n",
      "115 0.4\n"
     ]
    }
   ],
   "source": [
    "#b to a \n",
    "#initial= not equal\n",
    "#final= equal\n",
    "print('Eventual emotion is same by what ratio if coordination of any one of the speakers is greater then 0.1 towards the other speaker:')\n",
    "speakerb_to_speakera=coord.summarize(corpus, speaker_b, speaker_a)\n",
    "for speakerb, score in sorted(speakerb_to_speakera.averages_by_speaker().items(),key=lambda x: x[1], reverse=True):\n",
    "    if(round(score,5)==0.1):\n",
    "        break\n",
    "    if int(speakera.id)%2==0:\n",
    "        emotion_speaker1=list_of_emotion[int(speakerb.id)]\n",
    "        emotion_speaker2=list_of_emotion[int(speakerb.id)+1]\n",
    "    else:\n",
    "        emotion_speaker1=list_of_emotion[int(speakerb.id)]\n",
    "        emotion_speaker2=list_of_emotion[int(speakerb.id)-1]\n",
    "    if emotion_speaker1[0]!=emotion_speaker2[0]:\n",
    "        t.add(int(speakerb.id))\n",
    "        initial_emotions[emotion_speaker2[0]]+=1\n",
    "    length1=len(emotion_speaker1)\n",
    "    length2=len(emotion_speaker2)\n",
    "   # if (emotion_speaker1[0]!=emotion_speaker2[0]) and (emotion_speaker1[0]==0 and emotion_speaker1[length1-1]==0) or (emotion_speaker2[0]==0 and emotion_speaker2[length2-1]==0):\n",
    "        #t.discard(int(speakerb.id))\n",
    "    if length1>1:\n",
    "        if emotion_speaker1[0]!=emotion_speaker2[0] and emotion_speaker1[length1-1]==emotion_speaker2[length2-1]:\n",
    "            q.add(int(speakerb.id))\n",
    "            final_emotion_same[emotion_speaker2[0]]+=1\n",
    "        #if (emotion_speaker1[0]!=emotion_speaker2[0]) and (emotion_speaker1[0]==0 and emotion_speaker1[length1-1]==0) or (emotion_speaker2[0]==0 and emotion_speaker2[length2-1]==0):\n",
    "            #q.discard(int(speakerb.id))\n",
    "print(len(t),len(q)/len(t))"
   ]
  },
  {
   "cell_type": "code",
   "execution_count": 214,
   "metadata": {},
   "outputs": [
    {
     "name": "stdout",
     "output_type": "stream",
     "text": [
      "Thus, the total number percentage of cases in which the eventual(final) emotion of 2 speakers whose initial emotions are not equal are  40.0\n"
     ]
    }
   ],
   "source": [
    "print(\"Thus, the total number percentage of cases in which the eventual(final) emotion of 2 speakers whose initial emotions are not equal are \",100*len(q)/len(t))"
   ]
  },
  {
   "cell_type": "code",
   "execution_count": 215,
   "metadata": {},
   "outputs": [
    {
     "name": "stdout",
     "output_type": "stream",
     "text": [
      "Eventual emotion is same by what ratio if coordination of any one of the speakers is greater then 0.1 towards the other speaker:\n"
     ]
    },
    {
     "data": {
      "text/plain": [
       "273"
      ]
     },
     "execution_count": 215,
     "metadata": {},
     "output_type": "execute_result"
    }
   ],
   "source": [
    "#a to b\n",
    "#initial= equal\n",
    "#final= equal\n",
    "print('Eventual emotion is same by what ratio if coordination of any one of the speakers is greater then 0.1 towards the other speaker:')\n",
    "w=set()\n",
    "e=set()\n",
    "speakera_to_speakerb=coord.summarize(corpus, speaker_a, speaker_b)\n",
    "for speakera, score in sorted(speakera_to_speakerb.averages_by_speaker().items(),\n",
    "    key=lambda x: x[1], reverse=True):\n",
    "    if(round(score,5)==0.1):\n",
    "        break\n",
    "    if int(speakera.id)%2==0:\n",
    "        emotion_speaker1=list_of_emotion[int(speakera.id)]\n",
    "        emotion_speaker2=list_of_emotion[int(speakera.id)+1]\n",
    "    else:\n",
    "        emotion_speaker1=list_of_emotion[int(speakera.id)]\n",
    "        emotion_speaker2=list_of_emotion[int(speakera.id)-1]\n",
    "    if emotion_speaker1[0]==emotion_speaker2[0]:\n",
    "        w.add(int(speakera.id))\n",
    "    length1=len(emotion_speaker1)\n",
    "    length2=len(emotion_speaker2)\n",
    "    #if (emotion_speaker1[0]==emotion_speaker2[0]) or (emotion_speaker1[0]==0 and emotion_speaker1[length1-1]==0) or (emotion_speaker2[0]==0 and emotion_speaker2[length2-1]==0):\n",
    "        #w.discard(int(speakera.id))\n",
    "    if length1>1:\n",
    "        if emotion_speaker1[0]==emotion_speaker2[0] and emotion_speaker1[length1-1]==emotion_speaker2[length2-1]:\n",
    "            e.add(int(speakera.id))\n",
    "        #if (emotion_speaker1[0]==emotion_speaker2[0]) and (emotion_speaker1[0]==0 and emotion_speaker1[length1-1]==0) or (emotion_speaker2[0]==0 and emotion_speaker2[length2-1]==0):\n",
    "            #e.discard(int(speakera.id))\n",
    "len(w)\n",
    "\n",
    "\n"
   ]
  },
  {
   "cell_type": "code",
   "execution_count": 216,
   "metadata": {},
   "outputs": [
    {
     "name": "stdout",
     "output_type": "stream",
     "text": [
      "Eventual emotion is same by what ratio if coordination of any one of the speakers is greater then 0.1 towards the other speaker:\n",
      "651 0.6605222734254992\n"
     ]
    }
   ],
   "source": [
    "#b to a \n",
    "#initial= equal\n",
    "#final= equal\n",
    "print('Eventual emotion is same by what ratio if coordination of any one of the speakers is greater then 0.1 towards the other speaker:')\n",
    "speakerb_to_speakera=coord.summarize(corpus, speaker_b, speaker_a)\n",
    "for speakerb, score in sorted(speakerb_to_speakera.averages_by_speaker().items(),key=lambda x: x[1], reverse=True):\n",
    "    if(round(score,5)==0.1):\n",
    "        break\n",
    "    if int(speakera.id)%2==0:\n",
    "        emotion_speaker1=list_of_emotion[int(speakerb.id)]\n",
    "        emotion_speaker2=list_of_emotion[int(speakerb.id)+1]\n",
    "    else:\n",
    "        emotion_speaker1=list_of_emotion[int(speakerb.id)]\n",
    "        emotion_speaker2=list_of_emotion[int(speakerb.id)-1]\n",
    "    if emotion_speaker1[0]==emotion_speaker2[0]:\n",
    "        w.add(int(speakerb.id))\n",
    "    length1=len(emotion_speaker1)\n",
    "    length2=len(emotion_speaker2)\n",
    "    #if (emotion_speaker1[0]==emotion_speaker2[0]) and (emotion_speaker1[0]==0 and emotion_speaker1[length1-1]==0) or (emotion_speaker2[0]==0 and emotion_speaker2[length2-1]==0):\n",
    "        #w.discard(int(speakerb.id))\n",
    "\n",
    "    if length1>1:\n",
    "        if emotion_speaker1[0]==emotion_speaker2[0] and emotion_speaker1[length1-1]==emotion_speaker2[length2-1]:\n",
    "            e.add(int(speakerb.id))\n",
    "        #if (emotion_speaker1[0]==emotion_speaker2[0]) and (emotion_speaker1[0]==0 and emotion_speaker1[length1-1]==0) or (emotion_speaker2[0]==0 and emotion_speaker2[length2-1]==0):\n",
    "            #e.discard(int(speakerb.id))\n",
    "print(len(w),len(e)/len(w))"
   ]
  },
  {
   "cell_type": "code",
   "execution_count": 217,
   "metadata": {},
   "outputs": [
    {
     "name": "stdout",
     "output_type": "stream",
     "text": [
      "Thus, the total number percentage of cases in which the eventual(final) emotion of 2 speakers whose initial emotions are also same are  66.05222734254993\n"
     ]
    }
   ],
   "source": [
    "print(\"Thus, the total number percentage of cases in which the eventual(final) emotion of 2 speakers whose initial emotions are also same are \",100*len(e)/len(w))"
   ]
  },
  {
   "cell_type": "code",
   "execution_count": 218,
   "metadata": {},
   "outputs": [
    {
     "name": "stdout",
     "output_type": "stream",
     "text": [
      "Eventual emotion is same by what ratio if coordination of any one of the speakers is greater then 0.1 towards the other speaker:\n"
     ]
    },
    {
     "data": {
      "text/plain": [
       "33"
      ]
     },
     "execution_count": 218,
     "metadata": {},
     "output_type": "execute_result"
    }
   ],
   "source": [
    "#a to b\n",
    "#initial= not equal\n",
    "#final= similar\n",
    "print('Eventual emotion is same by what ratio if coordination of any one of the speakers is greater then 0.1 towards the other speaker:')\n",
    "similar_t=set()\n",
    "similar_q=set()\n",
    "final_emotion_similar=[0,0,0,0,0,0,0]\n",
    "speakera_to_speakerb=coord.summarize(corpus, speaker_a, speaker_b)\n",
    "for speakera, score in sorted(speakera_to_speakerb.averages_by_speaker().items(),\n",
    "    key=lambda x: x[1], reverse=True):\n",
    "    if(round(score,5)==0.1):\n",
    "        break\n",
    "    if int(speakera.id)%2==0:\n",
    "        emotion_speaker1=list_of_emotion[int(speakera.id)]\n",
    "        emotion_speaker2=list_of_emotion[int(speakera.id)+1]\n",
    "    else:\n",
    "        emotion_speaker1=list_of_emotion[int(speakera.id)]\n",
    "        emotion_speaker2=list_of_emotion[int(speakera.id)-1]\n",
    "    if emotion_speaker1[0]!=emotion_speaker2[0]:\n",
    "        similar_t.add(int(speakera.id))\n",
    "    length1=len(emotion_speaker1)\n",
    "    length2=len(emotion_speaker2)\n",
    "    #if (emotion_speaker1[0]!=emotion_speaker2[0]) and (emotion_speaker1[0]==0 and emotion_speaker1[length1-1]==0) or (emotion_speaker2[0]==0 and emotion_speaker2[length2-1]==0):\n",
    "        #similar_t.discard(int(speakera.id))\n",
    "    if length1>1:\n",
    "        if emotion_speaker1[0]!=emotion_speaker2[0]:\n",
    "            if emotion_speaker1[length1-1]==emotion_speaker2[length2-1] or (emotion_speaker1[length1-1]==1 and emotion_speaker2[length2-1]==2) or (emotion_speaker1[length1-1]==2 and emotion_speaker2[length2-1]==1) or (emotion_speaker1[length1-1]==2 and emotion_speaker2[length2-1]==3) or (emotion_speaker1[length1-1]==3 and emotion_speaker2[length2-1]==2) or (emotion_speaker1[length1-1]==3 and emotion_speaker2[length2-1]==5) or (emotion_speaker1[length1-1]==5 and emotion_speaker2[length2-1]==3) or (emotion_speaker1[length1-1]==1 and emotion_speaker2[length2-1]==5) or (emotion_speaker1[length1-1]==5 and emotion_speaker2[length2-1]==1) or (emotion_speaker1[length1-1]==3 and emotion_speaker2[length2-1]==1) or (emotion_speaker1[length1-1]==1 and emotion_speaker2[length2-1]==3) or (emotion_speaker1[length1-1]==2 and emotion_speaker2[length2-1]==5) or (emotion_speaker1[length1-1]==5 and emotion_speaker2[length2-1]==2) :\n",
    "                similar_q.add(int(speakera.id))\n",
    "                final_emotion_similar[emotion_speaker1[0]]+=1\n",
    "            #if (emotion_speaker1[0]!=emotion_speaker2[0]) and (emotion_speaker1[0]==0 and emotion_speaker1[length1-1]==0) or (emotion_speaker2[0]==0 and emotion_speaker2[length2-1]==0):\n",
    "                #similar_q.discard(int(speakera.id))\n",
    "len(similar_t)\n"
   ]
  },
  {
   "cell_type": "code",
   "execution_count": 219,
   "metadata": {},
   "outputs": [
    {
     "name": "stdout",
     "output_type": "stream",
     "text": [
      "Eventual emotion is same by what ratio if coordination of any one of the speakers is greater then 0.1 towards the other speaker:\n",
      "115 0.4\n"
     ]
    }
   ],
   "source": [
    "#b to a \n",
    "#initial= not equal\n",
    "#final= similar\n",
    "print('Eventual emotion is same by what ratio if coordination of any one of the speakers is greater then 0.1 towards the other speaker:')\n",
    "speakerb_to_speakera=coord.summarize(corpus, speaker_b, speaker_a)\n",
    "for speakerb, score in sorted(speakerb_to_speakera.averages_by_speaker().items(),key=lambda x: x[1], reverse=True):\n",
    "    if(round(score,5)==0.1):\n",
    "        break\n",
    "    if int(speakera.id)%2==0:\n",
    "        emotion_speaker1=list_of_emotion[int(speakerb.id)]\n",
    "        emotion_speaker2=list_of_emotion[int(speakerb.id)+1]\n",
    "    else:\n",
    "        emotion_speaker1=list_of_emotion[int(speakerb.id)]\n",
    "        emotion_speaker2=list_of_emotion[int(speakerb.id)-1]\n",
    "    if emotion_speaker1[0]!=emotion_speaker2[0]:\n",
    "        similar_t.add(int(speakerb.id))\n",
    "    length1=len(emotion_speaker1)\n",
    "    length2=len(emotion_speaker2)\n",
    "    #if (emotion_speaker1[0]!=emotion_speaker2[0]) and (emotion_speaker1[0]==0 and emotion_speaker1[length1-1]==0) or (emotion_speaker2[0]==0 and emotion_speaker2[length2-1]==0):\n",
    "        #similar_t.discard(int(speakerb.id))\n",
    "    if length1>1:\n",
    "        if emotion_speaker1[0]!=emotion_speaker2[0]:\n",
    "            if emotion_speaker1[length1-1]==emotion_speaker2[length2-1] or (emotion_speaker1[length1-1]==1 and emotion_speaker2[length2-1]==2) or (emotion_speaker1[length1-1]==2 and emotion_speaker2[length2-1]==1) or (emotion_speaker1[length1-1]==2 and emotion_speaker2[length2-1]==3) or (emotion_speaker1[length1-1]==3 and emotion_speaker2[length2-1]==2) or (emotion_speaker1[length1-1]==3 and emotion_speaker2[length2-1]==5) or (emotion_speaker1[length1-1]==5 and emotion_speaker2[length2-1]==3) or (emotion_speaker1[length1-1]==1 and emotion_speaker2[length2-1]==5) or (emotion_speaker1[length1-1]==5 and emotion_speaker2[length2-1]==1) or (emotion_speaker1[length1-1]==3 and emotion_speaker2[length2-1]==1) or (emotion_speaker1[length1-1]==1 and emotion_speaker2[length2-1]==3) or (emotion_speaker1[length1-1]==2 and emotion_speaker2[length2-1]==5) or (emotion_speaker1[length1-1]==5 and emotion_speaker2[length2-1]==2)  :\n",
    "                similar_q.add(int(speakerb.id))\n",
    "                final_emotion_similar[emotion_speaker2[0]]+=1\n",
    "            #if (emotion_speaker1[0]!=emotion_speaker2[0]) and (emotion_speaker1[0]==0 and emotion_speaker1[length1-1]==0) or (emotion_speaker2[0]==0 and emotion_speaker2[length2-1]==0):\n",
    "                #similar_q.discard(int(speakerb.id))\n",
    "print(len(similar_t),len(similar_q)/len(similar_t))"
   ]
  },
  {
   "cell_type": "code",
   "execution_count": 220,
   "metadata": {},
   "outputs": [
    {
     "name": "stdout",
     "output_type": "stream",
     "text": [
      "Thus, the total number percentage of cases in which the eventual(final) emotion of 2 speakers is similar whose initial emotions are not same are are  40.0\n"
     ]
    }
   ],
   "source": [
    "print(\"Thus, the total number percentage of cases in which the eventual(final) emotion of 2 speakers is similar whose initial emotions are not same are are \",100*len(similar_q)/len(similar_t))"
   ]
  },
  {
   "cell_type": "code",
   "execution_count": 221,
   "metadata": {},
   "outputs": [
    {
     "name": "stdout",
     "output_type": "stream",
     "text": [
      "Eventual emotion is same by what ratio if coordination of any one of the speakers is greater then 0.1 towards the other speaker:\n"
     ]
    },
    {
     "data": {
      "text/plain": [
       "273"
      ]
     },
     "execution_count": 221,
     "metadata": {},
     "output_type": "execute_result"
    }
   ],
   "source": [
    "#a to b\n",
    "#initial= equal\n",
    "#final= similar\n",
    "print('Eventual emotion is same by what ratio if coordination of any one of the speakers is greater then 0.1 towards the other speaker:')\n",
    "similar_t_equal=set()\n",
    "similar_q_equal=set()\n",
    "speakera_to_speakerb=coord.summarize(corpus, speaker_a, speaker_b)\n",
    "for speakera, score in sorted(speakera_to_speakerb.averages_by_speaker().items(),\n",
    "    key=lambda x: x[1], reverse=True):\n",
    "    if(round(score,5)==0.1):\n",
    "        break\n",
    "    if int(speakera.id)%2==0:\n",
    "        emotion_speaker1=list_of_emotion[int(speakera.id)]\n",
    "        emotion_speaker2=list_of_emotion[int(speakera.id)+1]\n",
    "    else:\n",
    "        emotion_speaker1=list_of_emotion[int(speakera.id)]\n",
    "        emotion_speaker2=list_of_emotion[int(speakera.id)-1]\n",
    "    if emotion_speaker1[0]==emotion_speaker2[0]:\n",
    "        similar_t_equal.add(int(speakera.id))\n",
    "    length1=len(emotion_speaker1)\n",
    "    length2=len(emotion_speaker2)\n",
    "    #if (emotion_speaker1[0]==emotion_speaker2[0]) and (emotion_speaker1[0]==0 and emotion_speaker1[length1-1]==0) or (emotion_speaker2[0]==0 and emotion_speaker2[length2-1]==0):\n",
    "        #similar_t_equal.discard(int(speakera.id))\n",
    "    if length1>1:\n",
    "        if emotion_speaker1[0]==emotion_speaker2[0]:\n",
    "            if emotion_speaker1[length1-1]==emotion_speaker2[length2-1] or (emotion_speaker1[length1-1]==1 and emotion_speaker2[length2-1]==2) or (emotion_speaker1[length1-1]==2 and emotion_speaker2[length2-1]==1) or (emotion_speaker1[length1-1]==2 and emotion_speaker2[length2-1]==3) or (emotion_speaker1[length1-1]==3 and emotion_speaker2[length2-1]==2) or (emotion_speaker1[length1-1]==3 and emotion_speaker2[length2-1]==5) or (emotion_speaker1[length1-1]==5 and emotion_speaker2[length2-1]==3) or (emotion_speaker1[length1-1]==1 and emotion_speaker2[length2-1]==5) or (emotion_speaker1[length1-1]==5 and emotion_speaker2[length2-1]==1) or (emotion_speaker1[length1-1]==3 and emotion_speaker2[length2-1]==1) or (emotion_speaker1[length1-1]==1 and emotion_speaker2[length2-1]==3) or (emotion_speaker1[length1-1]==2 and emotion_speaker2[length2-1]==5) or (emotion_speaker1[length1-1]==5 and emotion_speaker2[length2-1]==2)  :\n",
    "                similar_q_equal.add(int(speakera.id))\n",
    "            #if (emotion_speaker1[0]==emotion_speaker2[0]) and (emotion_speaker1[0]==0 and emotion_speaker1[length1-1]==0) or (emotion_speaker2[0]==0 and emotion_speaker2[length2-1]==0):\n",
    "                #similar_q_equal.discard(int(speakera.id))\n",
    "len(similar_t_equal)"
   ]
  },
  {
   "cell_type": "code",
   "execution_count": 222,
   "metadata": {},
   "outputs": [
    {
     "name": "stdout",
     "output_type": "stream",
     "text": [
      "Eventual emotion is same by what ratio if coordination of any one of the speakers is greater then 0.1 towards the other speaker:\n",
      "651 0.6605222734254992\n"
     ]
    }
   ],
   "source": [
    "#b to a \n",
    "#initial= equal\n",
    "#final= similar\n",
    "print('Eventual emotion is same by what ratio if coordination of any one of the speakers is greater then 0.1 towards the other speaker:')\n",
    "speakerb_to_speakera=coord.summarize(corpus, speaker_b, speaker_a)\n",
    "for speakerb, score in sorted(speakerb_to_speakera.averages_by_speaker().items(),key=lambda x: x[1], reverse=True):\n",
    "    if(round(score,5)==0.1):\n",
    "        break\n",
    "    if int(speakera.id)%2==0:\n",
    "        emotion_speaker1=list_of_emotion[int(speakerb.id)]\n",
    "        emotion_speaker2=list_of_emotion[int(speakerb.id)+1]\n",
    "    else:\n",
    "        emotion_speaker1=list_of_emotion[int(speakerb.id)]\n",
    "        emotion_speaker2=list_of_emotion[int(speakerb.id)-1]\n",
    "    if emotion_speaker1[0]==emotion_speaker2[0]:\n",
    "        similar_t_equal.add(int(speakerb.id))\n",
    "    length1=len(emotion_speaker1)\n",
    "    length2=len(emotion_speaker2)\n",
    "    #if (emotion_speaker1[0]==emotion_speaker2[0]) and (emotion_speaker1[0]==0 and emotion_speaker1[length1-1]==0) or (emotion_speaker2[0]==0 and emotion_speaker2[length2-1]==0):\n",
    "        #similar_t_equal.discard(int(speakerb.id))\n",
    "    if length1>1:\n",
    "        if emotion_speaker1[0]==emotion_speaker2[0]:\n",
    "            if emotion_speaker1[length1-1]==emotion_speaker2[length2-1] or (emotion_speaker1[length1-1]==1 and emotion_speaker2[length2-1]==2) or (emotion_speaker1[length1-1]==2 and emotion_speaker2[length2-1]==1) or (emotion_speaker1[length1-1]==2 and emotion_speaker2[length2-1]==3) or (emotion_speaker1[length1-1]==3 and emotion_speaker2[length2-1]==2) or (emotion_speaker1[length1-1]==3 and emotion_speaker2[length2-1]==5) or (emotion_speaker1[length1-1]==5 and emotion_speaker2[length2-1]==3) or (emotion_speaker1[length1-1]==1 and emotion_speaker2[length2-1]==5) or (emotion_speaker1[length1-1]==5 and emotion_speaker2[length2-1]==1) or (emotion_speaker1[length1-1]==3 and emotion_speaker2[length2-1]==1) or (emotion_speaker1[length1-1]==1 and emotion_speaker2[length2-1]==3) or (emotion_speaker1[length1-1]==2 and emotion_speaker2[length2-1]==5) or (emotion_speaker1[length1-1]==5 and emotion_speaker2[length2-1]==2)   :\n",
    "                similar_q_equal.add(int(speakerb.id))\n",
    "            #if (emotion_speaker1[0]==emotion_speaker2[0]) and (emotion_speaker1[0]==0 and emotion_speaker1[length1-1]==0) or (emotion_speaker2[0]==0 and emotion_speaker2[length2-1]==0):\n",
    "                #similar_q_equal.discard(int(speakerb.id))\n",
    "print(len(similar_t_equal),len(similar_q_equal)/len(similar_t_equal))"
   ]
  },
  {
   "cell_type": "code",
   "execution_count": 223,
   "metadata": {},
   "outputs": [
    {
     "name": "stdout",
     "output_type": "stream",
     "text": [
      "Thus, the total number percentage of cases in which the eventual(final) emotion of 2 speakers is similar whose initial emotions are also same are are  66.05222734254993\n"
     ]
    }
   ],
   "source": [
    "print(\"Thus, the total number percentage of cases in which the eventual(final) emotion of 2 speakers is similar whose initial emotions are also same are are \",100*len(similar_q_equal)/len(similar_t_equal))"
   ]
  },
  {
   "cell_type": "code",
   "execution_count": 224,
   "metadata": {},
   "outputs": [],
   "source": [
    "#Hypothesis 2"
   ]
  },
  {
   "cell_type": "code",
   "execution_count": 225,
   "metadata": {},
   "outputs": [
    {
     "name": "stdout",
     "output_type": "stream",
     "text": [
      "Eventual emotion is same by what ratio if coordination of any one of the speakers is greater then 0.1 towards the other speaker:\n"
     ]
    },
    {
     "data": {
      "text/plain": [
       "255"
      ]
     },
     "execution_count": 225,
     "metadata": {},
     "output_type": "execute_result"
    }
   ],
   "source": [
    "#a to b\n",
    "#initial= any emotion\n",
    "#final= negative emotion of any one speaker\n",
    "print('Eventual emotion is same by what ratio if coordination of any one of the speakers is greater then 0.1 towards the other speaker:')\n",
    "hypo2_t=set()\n",
    "hypo2_q=set()\n",
    "initial_emotions_hypo2=[0,0,0,0,0,0,0]\n",
    "final_emotion_hypo2_negative=[0,0,0,0,0,0,0]\n",
    "speakera_to_speakerb=coord.summarize(corpus, speaker_a, speaker_b)\n",
    "for speakera, score in sorted(speakera_to_speakerb.averages_by_speaker().items(),\n",
    "    key=lambda x: x[1], reverse=False):\n",
    "    if(round(score,5)==-0.1):\n",
    "        break\n",
    "    if int(speakera.id)%2==0:\n",
    "        emotion_speaker1=list_of_emotion[int(speakera.id)]\n",
    "        emotion_speaker2=list_of_emotion[int(speakera.id)+1]\n",
    "    else:\n",
    "        emotion_speaker1=list_of_emotion[int(speakera.id)]\n",
    "        emotion_speaker2=list_of_emotion[int(speakera.id)-1]\n",
    "    hypo2_t.add(int(speakera.id))\n",
    "    initial_emotions_hypo2[emotion_speaker1[0]]+=1\n",
    "    length1=len(emotion_speaker1)\n",
    "    length2=len(emotion_speaker2)\n",
    "    if length1>1:\n",
    "        if ((emotion_speaker1[length1-1]==0) or (emotion_speaker1[length1-1]==1) or (emotion_speaker1[length1-1]==2) or (emotion_speaker1[length1-1]==3) or (emotion_speaker1[length1-1]==5)) and ((emotion_speaker2[length2-1]==0) or emotion_speaker2[length2-1]==1 or emotion_speaker2[length2-1]==2 or emotion_speaker2[length2-1]==3 or emotion_speaker2[length2-1]==5):\n",
    "            hypo2_q.add(int(speakera.id))\n",
    "            final_emotion_hypo2_negative[emotion_speaker1[0]]+=1\n",
    "len(hypo2_t)\n",
    "\n",
    "\n"
   ]
  },
  {
   "cell_type": "code",
   "execution_count": 226,
   "metadata": {},
   "outputs": [
    {
     "name": "stdout",
     "output_type": "stream",
     "text": [
      "Eventual emotion is same by what ratio if coordination of any one of the speakers is greater then 0.1 towards the other speaker:\n",
      "496 0.5705645161290323\n"
     ]
    }
   ],
   "source": [
    "#b to a \n",
    "#initial= anything\n",
    "#final= negative emotion of any one speaker\n",
    "print('Eventual emotion is same by what ratio if coordination of any one of the speakers is greater then 0.1 towards the other speaker:')\n",
    "speakerb_to_speakera=coord.summarize(corpus, speaker_b, speaker_a)\n",
    "for speakerb, score in sorted(speakerb_to_speakera.averages_by_speaker().items(),key=lambda x: x[1], reverse=False):\n",
    "    if(round(score,5)==-0.1):\n",
    "        break\n",
    "    if int(speakera.id)%2==0:\n",
    "        emotion_speaker1=list_of_emotion[int(speakerb.id)]\n",
    "        emotion_speaker2=list_of_emotion[int(speakerb.id)+1]\n",
    "    else:\n",
    "        emotion_speaker1=list_of_emotion[int(speakerb.id)]\n",
    "        emotion_speaker2=list_of_emotion[int(speakerb.id)-1]\n",
    "    hypo2_t.add(int(speakerb.id))\n",
    "    initial_emotions_hypo2[emotion_speaker2[0]]+=1\n",
    "    length1=len(emotion_speaker1)\n",
    "    length2=len(emotion_speaker2)\n",
    "    if length1>1:\n",
    "        if (emotion_speaker1[length1-1]==0 or emotion_speaker1[length1-1]==1 or emotion_speaker1[length1-1]==2 or emotion_speaker1[length1-1]==3 or emotion_speaker1[length1-1]==5) and (emotion_speaker2[length2-1]==0 or emotion_speaker2[length2-1]==1 or emotion_speaker2[length2-1]==2 or emotion_speaker2[length2-1]==3 or emotion_speaker2[length2-1]==5):\n",
    "            hypo2_q.add(int(speakerb.id))\n",
    "            final_emotion_hypo2_negative[emotion_speaker2[0]]+=1\n",
    "print(len(hypo2_t),len(hypo2_q)/len(hypo2_t))"
   ]
  },
  {
   "cell_type": "code",
   "execution_count": 227,
   "metadata": {},
   "outputs": [
    {
     "name": "stdout",
     "output_type": "stream",
     "text": [
      "Thus, the total number percentage of cases in which the eventual(final) emotion of both 2 speakers is negative or no emotion are  57.056451612903224\n"
     ]
    }
   ],
   "source": [
    "print(\"Thus, the total number percentage of cases in which the eventual(final) emotion of both 2 speakers is negative or no emotion are \",100*len(hypo2_q)/len(hypo2_t))"
   ]
  },
  {
   "cell_type": "code",
   "execution_count": 228,
   "metadata": {},
   "outputs": [
    {
     "name": "stdout",
     "output_type": "stream",
     "text": [
      "Eventual emotion is same by what ratio if coordination of any one of the speakers is greater then 0.1 towards the other speaker:\n"
     ]
    },
    {
     "data": {
      "text/plain": [
       "242"
      ]
     },
     "execution_count": 228,
     "metadata": {},
     "output_type": "execute_result"
    }
   ],
   "source": [
    "#a to b\n",
    "#initial= not negative emotion for both speakers\n",
    "#final= negative emotion of any one speaker\n",
    "print('Eventual emotion is same by what ratio if coordination of any one of the speakers is greater then 0.1 towards the other speaker:')\n",
    "hypo2_t_ini=set()\n",
    "hypo2_q_ini=set()\n",
    "final_emotion_hypo2_initail_non_neg=[0,0,0,0,0,0,0]\n",
    "speakera_to_speakerb=coord.summarize(corpus, speaker_a, speaker_b)\n",
    "for speakera, score in sorted(speakera_to_speakerb.averages_by_speaker().items(),\n",
    "    key=lambda x: x[1], reverse=False):\n",
    "    if(round(score,5)==-0.1):\n",
    "        break\n",
    "    if int(speakera.id)%2==0:\n",
    "        emotion_speaker1=list_of_emotion[int(speakera.id)]\n",
    "        emotion_speaker2=list_of_emotion[int(speakera.id)+1]\n",
    "    else:\n",
    "        emotion_speaker1=list_of_emotion[int(speakera.id)]\n",
    "        emotion_speaker2=list_of_emotion[int(speakera.id)-1]\n",
    "    if (emotion_speaker1[0]==0 or emotion_speaker1[0]==4 or emotion_speaker1[0]==6) and (emotion_speaker2[0]==0 or emotion_speaker2[0]==4 or emotion_speaker2[0]==6):\n",
    "        hypo2_t_ini.add(int(speakera.id))\n",
    "    length1=len(emotion_speaker1)\n",
    "    length2=len(emotion_speaker2)\n",
    "    if length1>1:\n",
    "        if ((emotion_speaker1[0]==0 or emotion_speaker1[0]==4 or emotion_speaker1[0]==6) and (emotion_speaker2[0]==0 or emotion_speaker2[0]==4 or emotion_speaker2[0]==6)) and (((emotion_speaker1[length1-1]==0) or (emotion_speaker1[length1-1]==1) or (emotion_speaker1[length1-1]==2) or (emotion_speaker1[length1-1]==3) or (emotion_speaker1[length1-1]==5)) and ((emotion_speaker2[length2-1]==0) or emotion_speaker2[length2-1]==1 or emotion_speaker2[length2-1]==2 or emotion_speaker2[length2-1]==3 or emotion_speaker2[length2-1]==5)):\n",
    "            hypo2_q_ini.add(int(speakera.id))\n",
    "            final_emotion_hypo2_initail_non_neg[emotion_speaker1[0]]+=1\n",
    "len(hypo2_t_ini)\n",
    "\n",
    "\n"
   ]
  },
  {
   "cell_type": "code",
   "execution_count": 229,
   "metadata": {},
   "outputs": [
    {
     "name": "stdout",
     "output_type": "stream",
     "text": [
      "Eventual emotion is same by what ratio if coordination of any one of the speakers is greater then 0.1 towards the other speaker:\n",
      "475 0.5663157894736842\n"
     ]
    }
   ],
   "source": [
    "#b to a \n",
    "#initial= not negative emotion for both speakers\n",
    "#final= negative emotion of any one speaker\n",
    "print('Eventual emotion is same by what ratio if coordination of any one of the speakers is greater then 0.1 towards the other speaker:')\n",
    "speakerb_to_speakera=coord.summarize(corpus, speaker_b, speaker_a)\n",
    "for speakerb, score in sorted(speakerb_to_speakera.averages_by_speaker().items(),key=lambda x: x[1], reverse=False):\n",
    "    if(round(score,5)==-0.1):\n",
    "        break\n",
    "    if int(speakera.id)%2==0:\n",
    "        emotion_speaker1=list_of_emotion[int(speakerb.id)]\n",
    "        emotion_speaker2=list_of_emotion[int(speakerb.id)+1]\n",
    "    else:\n",
    "        emotion_speaker1=list_of_emotion[int(speakerb.id)]\n",
    "        emotion_speaker2=list_of_emotion[int(speakerb.id)-1]\n",
    "    if (emotion_speaker1[0]==0 or emotion_speaker1[0]==4 or emotion_speaker1[0]==6) and (emotion_speaker2[0]==0 or emotion_speaker2[0]==4 or emotion_speaker2[0]==6):\n",
    "        hypo2_t_ini.add(int(speakerb.id))\n",
    "    length1=len(emotion_speaker1)\n",
    "    length2=len(emotion_speaker2)\n",
    "    if length1>1:\n",
    "        if ((emotion_speaker1[0]==0 or emotion_speaker1[0]==4 or emotion_speaker1[0]==6) and (emotion_speaker2[0]==0 or emotion_speaker2[0]==4 or emotion_speaker2[0]==6)) and(((emotion_speaker1[length1-1]==0) or (emotion_speaker1[length1-1]==1) or (emotion_speaker1[length1-1]==2) or (emotion_speaker1[length1-1]==3) or (emotion_speaker1[length1-1]==5)) and ((emotion_speaker2[length2-1]==0) or emotion_speaker2[length2-1]==1 or emotion_speaker2[length2-1]==2 or emotion_speaker2[length2-1]==3 or emotion_speaker2[length2-1]==5)):\n",
    "            hypo2_q_ini.add(int(speakerb.id))\n",
    "            final_emotion_hypo2_initail_non_neg[emotion_speaker2[0]]+=1\n",
    "print(len(hypo2_t_ini),len(hypo2_q_ini)/len(hypo2_t_ini))"
   ]
  },
  {
   "cell_type": "code",
   "execution_count": 230,
   "metadata": {},
   "outputs": [
    {
     "name": "stdout",
     "output_type": "stream",
     "text": [
      "Thus, the total number percentage of cases in which the eventual(final) emotion of both 2 speakers is negative or no emotion and whose initial emotions are positive or no emotion are  56.63157894736842\n"
     ]
    }
   ],
   "source": [
    "print(\"Thus, the total number percentage of cases in which the eventual(final) emotion of both 2 speakers is negative or no emotion and whose initial emotions are positive or no emotion are \",100*len(hypo2_q_ini)/len(hypo2_t_ini))"
   ]
  },
  {
   "cell_type": "code",
   "execution_count": 231,
   "metadata": {},
   "outputs": [
    {
     "data": {
      "image/png": "[encoded data removed]",
      "text/plain": [
       "<Figure size 432x288 with 1 Axes>"
      ]
     },
     "metadata": {
      "needs_background": "light"
     },
     "output_type": "display_data"
    }
   ],
   "source": [
    "import matplotlib.pyplot as plt\n",
    "import numpy as np\n",
    "\n",
    "\n",
    "labels = ['No-emotion', 'Anger', 'Disgust', 'Fear', 'happiness','Sadness','Surprise']\n",
    "\n",
    "\n",
    "x = np.arange(len(labels))  # the label locations\n",
    "width = 0.35  # the width of the bars\n",
    "\n",
    "fig, ax = plt.subplots()\n",
    "rects1 = ax.bar(x - width/2, initial_emotions, width, label='Initial emotion of the Speaker with higher coordination')\n",
    "rects2 = ax.bar(x + width/2, final_emotion_same, width, label='Number of cases in a particular emotion that give same emotion')\n",
    "\n",
    "# Add some text for labels, title and custom x-axis tick labels, etc.\n",
    "ax.set_ylabel('Number of Utterances')\n",
    "ax.set_title('Number of input to output Utterances according to initial emotion')\n",
    "\n",
    "ax.legend()\n",
    "\n",
    "ax.bar_label(rects1, padding=3)\n",
    "ax.bar_label(rects2, padding=3)\n",
    "ax.set_xticks(x, labels)\n",
    "\n",
    "fig.tight_layout()\n",
    "\n",
    "plt.show()"
   ]
  },
  {
   "cell_type": "code",
   "execution_count": 232,
   "metadata": {},
   "outputs": [
    {
     "data": {
      "image/png": "[encoded data removed]",
      "text/plain": [
       "<Figure size 432x288 with 1 Axes>"
      ]
     },
     "metadata": {
      "needs_background": "light"
     },
     "output_type": "display_data"
    }
   ],
   "source": [
    "#graph for similar\n",
    "fig, ax = plt.subplots()\n",
    "rects1 = ax.bar(x - width/2, initial_emotions, width, label='Initial emotion of the Speaker with higher coordination')\n",
    "rects2 = ax.bar(x + width/2, final_emotion_similar, width, label='Number of cases in a particular emotion that give same emotion')\n",
    "\n",
    "# Add some text for labels, title and custom x-axis tick labels, etc.\n",
    "ax.set_ylabel('Number of Utterances')\n",
    "ax.set_title('Number of input to output Utterances according to initial emotion')\n",
    "\n",
    "ax.legend()\n",
    "\n",
    "ax.bar_label(rects1, padding=3)\n",
    "ax.bar_label(rects2, padding=3)\n",
    "ax.set_xticks(x, labels)\n",
    "\n",
    "fig.tight_layout()\n",
    "\n",
    "plt.show()"
   ]
  },
  {
   "cell_type": "code",
   "execution_count": 233,
   "metadata": {},
   "outputs": [
    {
     "data": {
      "image/png": "[encoded data removed]",
      "text/plain": [
       "<Figure size 432x288 with 1 Axes>"
      ]
     },
     "metadata": {
      "needs_background": "light"
     },
     "output_type": "display_data"
    }
   ],
   "source": [
    "#Hypothesis 2 graph for input of any emotion\n",
    "fig, ax = plt.subplots()\n",
    "rects1 = ax.bar(x - width/2, initial_emotions_hypo2, width, label='Initial emotion of the Speaker with higher coordination')\n",
    "rects2 = ax.bar(x + width/2, final_emotion_hypo2_negative, width, label='Number of cases in a particular emotion that give same emotion')\n",
    "\n",
    "# Add some text for labels, title and custom x-axis tick labels, etc.\n",
    "ax.set_ylabel('Number of Utterances')\n",
    "ax.set_title('Number of input to output Utterances according to initial emotion')\n",
    "\n",
    "ax.legend()\n",
    "\n",
    "ax.bar_label(rects1, padding=3)\n",
    "ax.bar_label(rects2, padding=3)\n",
    "ax.set_xticks(x, labels)\n",
    "\n",
    "fig.tight_layout()\n",
    "\n",
    "plt.show()"
   ]
  },
  {
   "cell_type": "code",
   "execution_count": 234,
   "metadata": {},
   "outputs": [
    {
     "data": {
      "image/png": "[encoded data removed]",
      "text/plain": [
       "<Figure size 432x288 with 1 Axes>"
      ]
     },
     "metadata": {
      "needs_background": "light"
     },
     "output_type": "display_data"
    }
   ],
   "source": [
    "#Hypothesis 2 graph for input of non negative inital input\n",
    "fig, ax = plt.subplots()\n",
    "rects1 = ax.bar(x - width/2, initial_emotions_hypo2, width, label='Initial emotion of the Speaker with higher coordination')\n",
    "rects2 = ax.bar(x + width/2, final_emotion_hypo2_initail_non_neg, width, label='Number of cases in a particular emotion that give same emotion')\n",
    "\n",
    "# Add some text for labels, title and custom x-axis tick labels, etc.\n",
    "ax.set_ylabel('Number of Utterances')\n",
    "ax.set_title('Number of input to output Utterances according to initial emotion')\n",
    "\n",
    "ax.legend()\n",
    "\n",
    "ax.bar_label(rects1, padding=3)\n",
    "ax.bar_label(rects2, padding=3)\n",
    "ax.set_xticks(x, labels)\n",
    "\n",
    "fig.tight_layout()\n",
    "\n",
    "plt.show()"
   ]
  }
 ],
 "metadata": {
  "interpreter": {
   "hash": "81794d4967e6c3204c66dcd87b604927b115b27c00565d3d43f05ba2f3a2cb0d"
  },
  "kernelspec": {
   "display_name": "Python 3.9.5 64-bit",
   "language": "python",
   "name": "python3"
  },
  "language_info": {
   "codemirror_mode": {
    "name": "ipython",
    "version": 3
   },
   "file_extension": ".py",
   "mimetype": "text/x-python",
   "name": "python",
   "nbconvert_exporter": "python",
   "pygments_lexer": "ipython3",
   "version": "3.9.5"
  },
  "orig_nbformat": 4
 },
 "nbformat": 4,
 "nbformat_minor": 2
}
